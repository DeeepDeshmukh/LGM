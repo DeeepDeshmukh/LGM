{
 "cells": [
  {
   "cell_type": "markdown",
   "source": [
    "# EXPLORETORY DATA ANALYSIS "
   ],
   "metadata": {}
  },
  {
   "cell_type": "code",
   "execution_count": null,
   "source": [
    "import numpy as np\r\n",
    "import pandas as pd\r\n",
    "import seaborn as sns\r\n",
    "import matplotlib.pyplot as plt\r\n",
    "import folium\r\n",
    "from folium.plugins import MarkerCluster\r\n",
    "df = pd.read_csv(r'E:\\globalterrorism.csv\\globalterrorismdb_0718dist.csv',encoding='latin1')\r\n",
    "df.head()"
   ],
   "outputs": [],
   "metadata": {}
  },
  {
   "cell_type": "markdown",
   "source": [
    "## SUMMARY OF DATAFRAME"
   ],
   "metadata": {}
  },
  {
   "cell_type": "code",
   "execution_count": null,
   "source": [
    "df.info()"
   ],
   "outputs": [],
   "metadata": {}
  },
  {
   "cell_type": "markdown",
   "source": [
    "## ANALYSING COMPLETE DATASET AND COLUMNS"
   ],
   "metadata": {}
  },
  {
   "cell_type": "code",
   "execution_count": null,
   "source": [
    "df.describe()"
   ],
   "outputs": [],
   "metadata": {}
  },
  {
   "cell_type": "markdown",
   "source": [
    "## FINDING RELATION BETWEEN DATAFRAMES"
   ],
   "metadata": {}
  },
  {
   "cell_type": "code",
   "execution_count": null,
   "source": [
    "df.corr()"
   ],
   "outputs": [],
   "metadata": {}
  },
  {
   "cell_type": "markdown",
   "source": [
    "## COLUMNS IN DATAFRAME"
   ],
   "metadata": {}
  },
  {
   "cell_type": "code",
   "execution_count": null,
   "source": [
    "df.columns"
   ],
   "outputs": [],
   "metadata": {}
  },
  {
   "cell_type": "markdown",
   "source": [
    "## UNITED STATES TERRORIST ATTACKS AND DEATH INJURIES"
   ],
   "metadata": {}
  },
  {
   "cell_type": "code",
   "execution_count": null,
   "source": [
    "df.nkillus.plot(kind = 'line', color = 'green', label = 'TOTAL DEATHS IN United States', linewidth = 2, alpha = 0.8, grid = True, \r\n",
    "                 linestyle = ':', figsize = (20,20), fontsize=20)\r\n",
    "df.nwoundus.plot(color = \"orange\", label = 'TOTAL NON-FATAL INJURIES', linewidth = 2, alpha = 0.8, grid = True, \r\n",
    "                 linestyle = '-.', figsize = (20,20), fontsize=20)\r\n",
    "\r\n",
    "\r\n",
    "\r\n",
    "plt.legend(loc='upper right')    \r\n",
    "plt.xlabel('Data Index', fontsize=20)           \r\n",
    "plt.ylabel('TOTAL DEATHS OR INJURIES', fontsize=20)\r\n",
    "plt.title('TOTAL DEATHS AND NON-FATAL INJURIES IN UNITED STATES')         \r\n",
    "plt.show()"
   ],
   "outputs": [],
   "metadata": {}
  },
  {
   "cell_type": "markdown",
   "source": [
    "#### CONCLUSION: Given that the data is sorted by dates, attacks on US citizens seem to be very rare in a given date range. But the terrorist act against the citizens of US has been increasingly in the following year after this rare date range. By finding the date of the start of the increase, the factors in increasing terrorist acts can be easily identified by taking into account the changes and developments in the country after this date."
   ],
   "metadata": {}
  },
  {
   "cell_type": "markdown",
   "source": [
    "## TOTAL DEATHS AND INJURIES OF ALL TIME"
   ],
   "metadata": {}
  },
  {
   "cell_type": "code",
   "execution_count": null,
   "source": [
    "df.plot(kind = 'scatter', x = 'nkill', y = 'nwound', alpha = 0.7, color = 'red', figsize = (20,20), fontsize=17)\r\n",
    "plt.xlabel('Kills', fontsize=17)\r\n",
    "plt.ylabel('Woundings', fontsize=17)\r\n",
    "plt.title('SCATTER PLOT: KILLS & WOUNDS')\r\n",
    "plt.show()"
   ],
   "outputs": [],
   "metadata": {}
  },
  {
   "cell_type": "markdown",
   "source": [
    "## TERRORISM ACTION IN SPECIFIC REGION"
   ],
   "metadata": {}
  },
  {
   "cell_type": "code",
   "execution_count": null,
   "source": [
    "middleEastData = df[df['region'] == 10]\r\n",
    "middleEastData.iyear.plot(kind = 'hist', bins = 32, figsize = (20,20), color = 'green', fontsize=17)\r\n",
    "plt.xlabel('Year', fontsize=15)\r\n",
    "plt.ylabel('Frequency', fontsize=15)\r\n",
    "plt.title('FREQUENCY OF TERRORISM ACTION W.R.T. YEARS IN Middle East & North Africa')\r\n",
    "plt.show()"
   ],
   "outputs": [],
   "metadata": {}
  },
  {
   "cell_type": "markdown",
   "source": [
    "### ----------------- TERRORIST ATTACKS IN 1970 AND LOCATIONS AFFECTED BY IT---------------------"
   ],
   "metadata": {}
  },
  {
   "cell_type": "code",
   "execution_count": null,
   "source": [
    "filterYear = df['iyear'] == 1970\r\n",
    "filterData = df[filterYear]"
   ],
   "outputs": [],
   "metadata": {}
  },
  {
   "cell_type": "code",
   "execution_count": null,
   "source": [
    "\r\n",
    "reqFilterData = filterData.loc[:,'city':'longitude'] \r\n",
    "reqFilterData = reqFilterData.dropna() \r\n",
    "reqFilterDataList = reqFilterData.values.tolist()\r\n",
    "# reqFilterDataList\r\n",
    "map = folium.Map(location = [0, 30], tiles='CartoDB positron', zoom_start=2)\r\n",
    "# clustered marker\r\n",
    "markerCluster = folium.plugins.MarkerCluster().add_to(map)\r\n",
    "for point in range(0, len(reqFilterDataList)):\r\n",
    "    folium.Marker(location=[reqFilterDataList[point][1],reqFilterDataList[point][2]], popup = reqFilterDataList[point][0]).add_to(markerCluster)\r\n",
    "map"
   ],
   "outputs": [],
   "metadata": {}
  },
  {
   "cell_type": "markdown",
   "source": [
    "#### 84% of the terrorist attacks in 1970 were carried out on the American continent. Middle East and North Africa, currently being the centre of terrorism, in 1970,faced only one terrorist attack"
   ],
   "metadata": {}
  },
  {
   "cell_type": "markdown",
   "source": [
    "## TOTAL CASUALTIES IN TERRORIST ATTACK"
   ],
   "metadata": {}
  },
  {
   "cell_type": "code",
   "execution_count": null,
   "source": [
    "df = pd.read_csv(r\"E:\\globalterrorism.csv\\globalterrorismdb_0718dist.csv\",encoding='latin1')\r\n",
    "killData = df.loc[:,'nkill']\r\n",
    "print('TOTAL CASUALTIES IN TERRORIST ATTACK:', int(sum(killData.dropna())))"
   ],
   "outputs": [],
   "metadata": {}
  },
  {
   "cell_type": "markdown",
   "source": [
    "#### TOTAL CASUALTIES IN TERRORIST ATTACK : 411868"
   ],
   "metadata": {}
  },
  {
   "cell_type": "markdown",
   "source": [
    "## Data types of column attributes"
   ],
   "metadata": {}
  },
  {
   "cell_type": "code",
   "execution_count": null,
   "source": [
    "attackData = df.loc[:,'attacktype1':'attacktype1_txt']\r\n",
    "\r\n",
    "typeKillData = pd.concat([attackData, killData], axis=1)\r\n",
    "typeKillFormatData = typeKillData.pivot_table(columns='attacktype1_txt', values='nkill', aggfunc='sum')\r\n",
    "typeKillFormatData"
   ],
   "outputs": [],
   "metadata": {}
  },
  {
   "cell_type": "code",
   "execution_count": null,
   "source": [
    "typeKillFormatData.info()\r\n"
   ],
   "outputs": [],
   "metadata": {}
  },
  {
   "cell_type": "markdown",
   "source": [
    "## REASONS BEHIND THESE DEATHS"
   ],
   "metadata": {}
  },
  {
   "cell_type": "code",
   "execution_count": null,
   "source": [
    "\r\n",
    "killData = df.loc[:,'nkill']\r\n",
    "\r\n",
    "attackData = df.loc[:,'attacktype1':'attacktype1_txt']\r\n",
    "\r\n",
    "#total data for the attacks\r\n",
    "typeKillData = pd.concat([attackData, killData], axis=1)\r\n",
    "typeKillData"
   ],
   "outputs": [],
   "metadata": {}
  },
  {
   "cell_type": "code",
   "execution_count": null,
   "source": [
    "typeKillFormatData = typeKillData.pivot_table(columns='attacktype1_txt', values='nkill', aggfunc='sum')\r\n",
    "typeKillFormatData"
   ],
   "outputs": [],
   "metadata": {}
  },
  {
   "cell_type": "code",
   "execution_count": null,
   "source": [
    "countryData = df.loc[:,'country':'country_txt']\r\n",
    "countryData"
   ],
   "outputs": [],
   "metadata": {}
  },
  {
   "cell_type": "markdown",
   "source": [
    "## PLOTTING KILLED PEOPLE VS COUNTRIES"
   ],
   "metadata": {}
  },
  {
   "cell_type": "code",
   "execution_count": null,
   "source": [
    "\r\n",
    "#information for all countries involved\r\n",
    "countryKillData = pd.concat([countryData, killData], axis=1) \r\n",
    "countryKillFormatData = countryKillData.pivot_table(columns='country_txt', values='nkill', aggfunc='sum')\r\n",
    "\r\n",
    "fig_size = plt.rcParams[\"figure.figsize\"]\r\n",
    "fig_size[0]=25\r\n",
    "fig_size[1]=25\r\n",
    "plt.rcParams[\"figure.figsize\"] = fig_size\r\n",
    "\r\n",
    "labels = countryKillFormatData.columns.tolist()\r\n",
    "labels = labels[:50] #50 bar provides nice view\r\n",
    "index = np.arange(len(labels))\r\n",
    "transpoze = countryKillFormatData.T\r\n",
    "values = transpoze.values.tolist()\r\n",
    "values = values[:50]\r\n",
    "values = [int(i[0]) for i in values] # convert float to int\r\n",
    "colors = ['orange', 'blue', 'green', 'yellow', 'brown', 'gray', 'black', 'red', 'magenta', 'green'] # color list for bar chart bar color \r\n",
    "fig, ax = plt.subplots(1, 1)\r\n",
    "ax.yaxis.grid(True)\r\n",
    "fig_size = plt.rcParams[\"figure.figsize\"]\r\n",
    "fig_size[0]=25\r\n",
    "fig_size[1]=25\r\n",
    "plt.rcParams[\"figure.figsize\"] = fig_size\r\n",
    "plt.bar(index, values, color = colors, width = 1.0)\r\n",
    "plt.ylabel('Dead People', fontsize=23)\r\n",
    "plt.xticks(index, labels, fontsize=20, rotation=90)\r\n",
    "plt.yticks( fontsize=20, rotation=90)\r\n",
    "plt.title('Number of people Deaths caused by countries')\r\n",
    "# print(fig_size)\r\n",
    "plt.show()"
   ],
   "outputs": [],
   "metadata": {}
  },
  {
   "cell_type": "code",
   "execution_count": null,
   "source": [
    "\r\n",
    "labels = countryKillFormatData.columns.tolist()\r\n",
    "labels = labels[50:101]\r\n",
    "index = np.arange(len(labels))\r\n",
    "transpoze = countryKillFormatData.T\r\n",
    "values = transpoze.values.tolist()\r\n",
    "values = values[50:101]\r\n",
    "values = [int(i[0]) for i in values]\r\n",
    "colors = ['red', 'green', 'blue', 'purple', 'yellow', 'brown', 'black', 'gray', 'magenta', 'orange']\r\n",
    "fig, ax = plt.subplots(1, 1)\r\n",
    "ax.yaxis.grid(True)\r\n",
    "fig_size = plt.rcParams[\"figure.figsize\"]\r\n",
    "fig_size[0]=25\r\n",
    "fig_size[1]=25\r\n",
    "plt.rcParams[\"figure.figsize\"] = fig_size\r\n",
    "plt.bar(index, values, color = colors, width = 1.0)\r\n",
    "plt.ylabel('Killed People', fontsize=15)\r\n",
    "plt.xticks(index, labels, fontsize=15, rotation=88)\r\n",
    "plt.title('Number of people Death caused by countries')\r\n",
    "plt.yticks( fontsize=20, rotation=90)\r\n",
    "plt.show()"
   ],
   "outputs": [],
   "metadata": {}
  },
  {
   "cell_type": "code",
   "execution_count": null,
   "source": [
    "labels = countryKillFormatData.columns.tolist()\r\n",
    "labels = labels[152:206]\r\n",
    "index = np.arange(len(labels))\r\n",
    "transpoze = countryKillFormatData.T\r\n",
    "values = transpoze.values.tolist()\r\n",
    "values = values[152:206]\r\n",
    "values = [int(i[0]) for i in values]\r\n",
    "colors = ['red', 'green', 'blue', 'purple', 'yellow', 'brown', 'black', 'gray', 'magenta', 'orange']\r\n",
    "fig, ax = plt.subplots(1, 1)\r\n",
    "ax.yaxis.grid(True)\r\n",
    "fig_size = plt.rcParams[\"figure.figsize\"]\r\n",
    "fig_size[0]=25\r\n",
    "fig_size[1]=25\r\n",
    "plt.rcParams[\"figure.figsize\"] = fig_size\r\n",
    "plt.bar(index, values, color = colors, width = 0.8)\r\n",
    "plt.ylabel('Killed People', fontsize=15)\r\n",
    "plt.xticks(index, labels, fontsize=15, rotation=90)\r\n",
    "plt.title('Number of people killed by countries')\r\n",
    "plt.yticks( fontsize=20, rotation=90)\r\n",
    "plt.show()"
   ],
   "outputs": [],
   "metadata": {}
  },
  {
   "cell_type": "markdown",
   "source": [
    "## CONCLUSION"
   ],
   "metadata": {}
  },
  {
   "cell_type": "markdown",
   "source": [
    "### MOST ATTACKED CONTINENTAL PART: Middle East & North Africa"
   ],
   "metadata": {}
  },
  {
   "cell_type": "markdown",
   "source": [
    "### MOST ATTACKED CITY: Baghdad"
   ],
   "metadata": {}
  },
  {
   "cell_type": "markdown",
   "source": [
    "### MOST ATTACKED COUNTRY: Iraq"
   ],
   "metadata": {}
  },
  {
   "cell_type": "markdown",
   "source": [
    "### Year with the most attacks: 2014"
   ],
   "metadata": {}
  },
  {
   "cell_type": "markdown",
   "source": [
    "### Most Attack Types: Bombing/Explosion"
   ],
   "metadata": {}
  },
  {
   "cell_type": "markdown",
   "source": [
    "### Group with the most attacks: Taliban"
   ],
   "metadata": {}
  },
  {
   "cell_type": "markdown",
   "source": [
    "### Month with the most attacks: 5"
   ],
   "metadata": {}
  },
  {
   "cell_type": "code",
   "execution_count": null,
   "source": [],
   "outputs": [],
   "metadata": {}
  }
 ],
 "metadata": {
  "kernelspec": {
   "name": "python3",
   "display_name": "Python 3.8.8 64-bit ('base': conda)"
  },
  "language_info": {
   "codemirror_mode": {
    "name": "ipython",
    "version": 3
   },
   "file_extension": ".py",
   "mimetype": "text/x-python",
   "name": "python",
   "nbconvert_exporter": "python",
   "pygments_lexer": "ipython3",
   "version": "3.8.8"
  },
  "interpreter": {
   "hash": "2574d42a59f0e556ab22a550b80c2f7ac01ac8af4984a22da53872bfe179c340"
  }
 },
 "nbformat": 4,
 "nbformat_minor": 5
}